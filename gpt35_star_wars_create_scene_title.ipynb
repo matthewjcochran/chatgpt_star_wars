{
 "cells": [
  {
   "cell_type": "code",
   "execution_count": 1,
   "id": "c9d3c84c-b30c-43c0-85c9-38bcc12b54ce",
   "metadata": {},
   "outputs": [],
   "source": [
    "from openai import OpenAI\n",
    "import pickle"
   ]
  },
  {
   "cell_type": "code",
   "execution_count": 2,
   "id": "addcaf7a-985c-44f6-a4e9-347ffdf200f8",
   "metadata": {},
   "outputs": [],
   "source": [
    "client = OpenAI()"
   ]
  },
  {
   "cell_type": "markdown",
   "id": "a9a58f45-f5b8-4e86-b150-68a0ffa1e08a",
   "metadata": {},
   "source": [
    "<table>\n",
    "    <tr>\n",
    "        <th>Model</th>\n",
    "        <th>Input</th>\n",
    "        <th>Output</th>\n",
    "    </tr>\n",
    "    <tr>\n",
    "        <td>gpt-4</td>\n",
    "        <td>\\$0.03 / 1K tokens</td>\n",
    "        <td>\\$0.06 / 1K tokens</td>\n",
    "    </tr>\n",
    "    <tr>\n",
    "        <td>gpt-3.5-turbo</td>\n",
    "        <td>\\$0.0010 / 1K tokens</td>\n",
    "        <td>\\$0.0020 / 1K tokens</td>\n",
    "    </tr>\n",
    "</table>"
   ]
  },
  {
   "cell_type": "code",
   "execution_count": 3,
   "id": "a96bc79e-82cf-456f-aed4-0d15c00d249c",
   "metadata": {},
   "outputs": [],
   "source": [
    "def get_chat_completions(messages, model='gpt-3.5-turbo', **kwargs):\n",
    "    chat_completions = client.chat.completions.create(model=model, messages=messages, **kwargs)\n",
    "    return chat_completions\n",
    "\n",
    "\n",
    "def get_messages_content(chat_completions):\n",
    "    messages_content = [choice.message.content for choice in chat_completions.choices]\n",
    "    return messages_content\n",
    "\n",
    "\n",
    "def get_responses(messages, **kwargs):\n",
    "    chat_completions = get_chat_completions(messages, **kwargs)\n",
    "    messages_content = get_messages_content(chat_completions)\n",
    "    return messages_content\n",
    "\n",
    "\n",
    "def m(role_char, text):\n",
    "    role_dict = {'s': 'system', 'u': 'user', 'a': 'assistant'}\n",
    "    message = {'role': role_dict[role_char], 'content': text.strip()}\n",
    "    return message\n",
    "\n",
    "\n",
    "def get_assistant_text(messages):\n",
    "    assistants = [message['content'] for message in messages if message['role'] == 'assistant']\n",
    "    text = '\\n-----\\n'.join(assistants)\n",
    "    return text"
   ]
  },
  {
   "cell_type": "code",
   "execution_count": 4,
   "id": "fde5d7f9-dda2-426e-b7b0-abe3851a22f9",
   "metadata": {},
   "outputs": [],
   "source": [
    "file_name0 = 'gpt35_star_wars_scene0.p'\n",
    "file_name1 = 'gpt35_star_wars_scene1.p'\n",
    "file_name2 = 'gpt35_star_wars_scene2.p'\n",
    "file_name3 = 'gpt35_star_wars_scene3.p'\n",
    "file_name4 = 'gpt35_star_wars_scene4.p'\n",
    "file_name5 = 'gpt35_star_wars_scene5.p'\n",
    "file_name6 = 'gpt35_star_wars_scene6.p'\n",
    "file_name7 = 'gpt35_star_wars_scene7.p'\n",
    "file_name8 = 'gpt35_star_wars_scene8.p'\n",
    "file_name9 = 'gpt35_star_wars_scene9.p'\n",
    "\n",
    "ms0 = pickle.load(open(file_name0, 'rb'))\n",
    "ms1 = pickle.load(open(file_name1, 'rb'))\n",
    "ms2 = pickle.load(open(file_name2, 'rb'))\n",
    "ms3 = pickle.load(open(file_name3, 'rb'))\n",
    "ms4 = pickle.load(open(file_name4, 'rb'))\n",
    "ms5 = pickle.load(open(file_name5, 'rb'))\n",
    "ms6 = pickle.load(open(file_name6, 'rb'))\n",
    "ms7 = pickle.load(open(file_name7, 'rb'))\n",
    "ms8 = pickle.load(open(file_name8, 'rb'))\n",
    "ms9 = pickle.load(open(file_name9, 'rb'))\n",
    "\n",
    "text0 = get_assistant_text(ms0)\n",
    "text1 = get_assistant_text(ms1)\n",
    "text2 = get_assistant_text(ms2)\n",
    "text3 = get_assistant_text(ms3)\n",
    "text4 = get_assistant_text(ms4)\n",
    "text5 = get_assistant_text(ms5)\n",
    "text6 = get_assistant_text(ms6)\n",
    "text7 = get_assistant_text(ms7)\n",
    "text8 = get_assistant_text(ms8)\n",
    "text9 = get_assistant_text(ms9)"
   ]
  },
  {
   "cell_type": "code",
   "execution_count": 5,
   "id": "3fffe705-0851-49d8-bc2c-60b3201091ba",
   "metadata": {},
   "outputs": [],
   "source": [
    "prompt0 = 'Create a title for this scene.'\n",
    "prompt1 = 'Shorten the title.  Do not inclue quotes or a period or a colon.  Avoid adverbs. The output is two words.'"
   ]
  },
  {
   "cell_type": "code",
   "execution_count": 87,
   "id": "64490e8d-24cc-4544-8cfc-52f71c57bca7",
   "metadata": {},
   "outputs": [
    {
     "name": "stdout",
     "output_type": "stream",
     "text": [
      "The Dawn of Desperation\n",
      "Desperate Dawn\n"
     ]
    }
   ],
   "source": [
    "r0 = get_responses([m('s', prompt0)] + [m('u', text0)])[0]\n",
    "print(r0)\n",
    "\n",
    "r0 = get_responses([m('s', prompt1)] + [m('u', r0)])[0]\n",
    "print(r0)"
   ]
  },
  {
   "cell_type": "code",
   "execution_count": 97,
   "id": "d60d152d-5377-4181-a868-cc50b850064b",
   "metadata": {},
   "outputs": [
    {
     "name": "stdout",
     "output_type": "stream",
     "text": [
      "\"Trapped and Outnumbered: A Droid's Desperate Escape\"\n",
      "Escape Droids\n"
     ]
    }
   ],
   "source": [
    "r1 = get_responses([m('s', prompt0)] + [m('u', text1)])[0]\n",
    "print(r1)\n",
    "\n",
    "r1 = get_responses([m('s', prompt1)] + [m('u', r1)])[0]\n",
    "r1 = 'Escape Droids'\n",
    "print(r1)"
   ]
  },
  {
   "cell_type": "code",
   "execution_count": 98,
   "id": "ee7c7e30-2538-42a3-a75c-53cadb4c72f3",
   "metadata": {},
   "outputs": [
    {
     "name": "stdout",
     "output_type": "stream",
     "text": [
      "The Fall of the Jedi: A Battle for Freedom in the Death Star\n",
      "Jedi Fall\n"
     ]
    }
   ],
   "source": [
    "r2 = get_responses([m('s', prompt0)] + [m('u', text2)])[0]\n",
    "print(r2)\n",
    "\n",
    "r2 = get_responses([m('s', prompt1)] + [m('u', r2)])[0]\n",
    "r2 = 'Jedi Fall'\n",
    "print(r2)"
   ]
  },
  {
   "cell_type": "code",
   "execution_count": 99,
   "id": "e4d2d0e2-a2c1-4fbf-9615-8ba3ef2e7bc6",
   "metadata": {},
   "outputs": [
    {
     "name": "stdout",
     "output_type": "stream",
     "text": [
      "\"A Fractured Republic: The Battle in the Senate Chambers\"\n",
      "Shadow Chaos\n"
     ]
    }
   ],
   "source": [
    "r3 = get_responses([m('s', prompt0)] + [m('u', text3)])[0]\n",
    "print(r3)\n",
    "\n",
    "r3 = get_responses([m('s', prompt1)] + [m('u', r3)])[0]\n",
    "r3 = 'Shadow Chaos'\n",
    "print(r3)"
   ]
  },
  {
   "cell_type": "code",
   "execution_count": 32,
   "id": "bca025f2-74b7-4519-9b08-ee7a0ea98a00",
   "metadata": {},
   "outputs": [
    {
     "name": "stdout",
     "output_type": "stream",
     "text": [
      "A Feast of Friendship - Ewoks Unite in Joyful Celebration\n",
      "Ewok Celebration\n"
     ]
    }
   ],
   "source": [
    "r4 = get_responses([m('s', prompt0)] + [m('u', text4)])[0]\n",
    "print(r4)\n",
    "\n",
    "r4 = get_responses([m('s', prompt1)] + [m('u', r4)])[0]\n",
    "print(r4)"
   ]
  },
  {
   "cell_type": "code",
   "execution_count": 33,
   "id": "d977c0b2-0ebf-4171-b7c9-8662f430afb9",
   "metadata": {},
   "outputs": [
    {
     "name": "stdout",
     "output_type": "stream",
     "text": [
      "\"Defense in Peril: Rebels Rally as Classified Information Hangs in the Balance\"\n",
      "Perilous Defense\n"
     ]
    }
   ],
   "source": [
    "r5 = get_responses([m('s', prompt0)] + [m('u', text5)])[0]\n",
    "print(r5)\n",
    "\n",
    "r5 = get_responses([m('s', prompt1)] + [m('u', r5)])[0]\n",
    "print(r5)"
   ]
  },
  {
   "cell_type": "code",
   "execution_count": 51,
   "id": "48d89763-77a6-4eee-8cc4-c0a9bef9a6bd",
   "metadata": {},
   "outputs": [
    {
     "name": "stdout",
     "output_type": "stream",
     "text": [
      "Race Against Time: Rescuing Chewbacca from the First Order\n",
      "Save Chewbacca\n"
     ]
    }
   ],
   "source": [
    "r6 = get_responses([m('s', prompt0)] + [m('u', text6)])[0]\n",
    "print(r6)\n",
    "\n",
    "r6 = get_responses([m('s', prompt1)] + [m('u', r6)])[0]\n",
    "\n",
    "r6 = 'Save Chewbacca'\n",
    "print(r6)"
   ]
  },
  {
   "cell_type": "code",
   "execution_count": 96,
   "id": "edbbce91-ea79-4b74-b349-89fbe00ce1e2",
   "metadata": {},
   "outputs": [
    {
     "name": "stdout",
     "output_type": "stream",
     "text": [
      "\"Jawas Triumph: A Cunning Game of Sabacc\"\n",
      "Sabacc Showdown\n"
     ]
    }
   ],
   "source": [
    "r7 = get_responses([m('s', prompt0)] + [m('u', text7)])[0]\n",
    "print(r7)\n",
    "\n",
    "r7 = get_responses([m('s', prompt1)] + [m('u', r7)])[0]\n",
    "r7 = 'Sabacc Showdown'\n",
    "print(r7)"
   ]
  },
  {
   "cell_type": "code",
   "execution_count": 59,
   "id": "be5024d2-0254-40a3-bcae-5ea4578bc7b2",
   "metadata": {},
   "outputs": [
    {
     "name": "stdout",
     "output_type": "stream",
     "text": [
      "\"The Journey of Lost Wisdom: Unveiling the Secrets of the Force\"\n",
      "Lost Secrets\n"
     ]
    }
   ],
   "source": [
    "r8 = get_responses([m('s', prompt0)] + [m('u', text8)])[0]\n",
    "print(r8)\n",
    "\n",
    "r8 = get_responses([m('s', prompt1)] + [m('u', r8)])[0]\n",
    "print(r8)"
   ]
  },
  {
   "cell_type": "code",
   "execution_count": 60,
   "id": "b877bd8f-d0c4-4b44-a8b7-0dcb7baa406d",
   "metadata": {},
   "outputs": [
    {
     "name": "stdout",
     "output_type": "stream",
     "text": [
      "\"The Dance of Cosmic Wisdom: Unearthing the Secrets of the Interdimensional Library\"\n",
      "Cosmic Library\n"
     ]
    }
   ],
   "source": [
    "r9 = get_responses([m('s', prompt0)] + [m('u', text9)])[0]\n",
    "print(r9)\n",
    "\n",
    "r9 = get_responses([m('s', prompt1)] + [m('u', r9)])[0]\n",
    "print(r9)"
   ]
  },
  {
   "cell_type": "code",
   "execution_count": 95,
   "id": "b9b35d22-d9e7-4103-bb41-c5985d5cb776",
   "metadata": {},
   "outputs": [],
   "source": [
    "pickle.dump(r0, open('gpt35_star_wars_scene0_title.p', 'wb'))\n",
    "pickle.dump(r1, open('gpt35_star_wars_scene1_title.p', 'wb'))\n",
    "pickle.dump(r2, open('gpt35_star_wars_scene2_title.p', 'wb'))\n",
    "pickle.dump(r3, open('gpt35_star_wars_scene3_title.p', 'wb'))\n",
    "pickle.dump(r4, open('gpt35_star_wars_scene4_title.p', 'wb'))\n",
    "pickle.dump(r5, open('gpt35_star_wars_scene5_title.p', 'wb'))\n",
    "pickle.dump(r6, open('gpt35_star_wars_scene6_title.p', 'wb'))\n",
    "pickle.dump(r7, open('gpt35_star_wars_scene7_title.p', 'wb'))\n",
    "pickle.dump(r8, open('gpt35_star_wars_scene8_title.p', 'wb'))\n",
    "pickle.dump(r9, open('gpt35_star_wars_scene9_title.p', 'wb'))"
   ]
  },
  {
   "cell_type": "code",
   "execution_count": null,
   "id": "18e303d6-c784-4227-91bb-5917330be880",
   "metadata": {},
   "outputs": [],
   "source": []
  },
  {
   "cell_type": "code",
   "execution_count": null,
   "id": "0ef72262-9e66-460c-8562-b578809e8342",
   "metadata": {},
   "outputs": [],
   "source": []
  },
  {
   "cell_type": "code",
   "execution_count": null,
   "id": "bea6e2a2-4898-4050-9724-84330a5d35cf",
   "metadata": {},
   "outputs": [],
   "source": []
  }
 ],
 "metadata": {
  "kernelspec": {
   "display_name": "Python 3 (ipykernel)",
   "language": "python",
   "name": "python3"
  },
  "language_info": {
   "codemirror_mode": {
    "name": "ipython",
    "version": 3
   },
   "file_extension": ".py",
   "mimetype": "text/x-python",
   "name": "python",
   "nbconvert_exporter": "python",
   "pygments_lexer": "ipython3",
   "version": "3.9.6"
  }
 },
 "nbformat": 4,
 "nbformat_minor": 5
}
