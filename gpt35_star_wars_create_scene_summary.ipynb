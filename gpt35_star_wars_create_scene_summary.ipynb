{
 "cells": [
  {
   "cell_type": "code",
   "execution_count": 1,
   "id": "c9d3c84c-b30c-43c0-85c9-38bcc12b54ce",
   "metadata": {},
   "outputs": [],
   "source": [
    "from openai import OpenAI\n",
    "import pickle"
   ]
  },
  {
   "cell_type": "code",
   "execution_count": 2,
   "id": "addcaf7a-985c-44f6-a4e9-347ffdf200f8",
   "metadata": {},
   "outputs": [],
   "source": [
    "client = OpenAI()"
   ]
  },
  {
   "cell_type": "markdown",
   "id": "a9a58f45-f5b8-4e86-b150-68a0ffa1e08a",
   "metadata": {},
   "source": [
    "<table>\n",
    "    <tr>\n",
    "        <th>Model</th>\n",
    "        <th>Input</th>\n",
    "        <th>Output</th>\n",
    "    </tr>\n",
    "    <tr>\n",
    "        <td>gpt-4</td>\n",
    "        <td>\\$0.03 / 1K tokens</td>\n",
    "        <td>\\$0.06 / 1K tokens</td>\n",
    "    </tr>\n",
    "    <tr>\n",
    "        <td>gpt-3.5-turbo</td>\n",
    "        <td>\\$0.0010 / 1K tokens</td>\n",
    "        <td>\\$0.0020 / 1K tokens</td>\n",
    "    </tr>\n",
    "</table>"
   ]
  },
  {
   "cell_type": "code",
   "execution_count": 4,
   "id": "a96bc79e-82cf-456f-aed4-0d15c00d249c",
   "metadata": {},
   "outputs": [],
   "source": [
    "def get_chat_completions(messages, model='gpt-3.5-turbo', **kwargs):\n",
    "    chat_completions = client.chat.completions.create(model=model, messages=messages, **kwargs)\n",
    "    return chat_completions\n",
    "\n",
    "\n",
    "def get_messages_content(chat_completions):\n",
    "    messages_content = [choice.message.content for choice in chat_completions.choices]\n",
    "    return messages_content\n",
    "\n",
    "\n",
    "def get_responses(messages, **kwargs):\n",
    "    chat_completions = get_chat_completions(messages, **kwargs)\n",
    "    messages_content = get_messages_content(chat_completions)\n",
    "    return messages_content\n",
    "\n",
    "\n",
    "def m(role_char, text):\n",
    "    role_dict = {'s': 'system', 'u': 'user', 'a': 'assistant'}\n",
    "    message = {'role': role_dict[role_char], 'content': text.strip()}\n",
    "    return message\n",
    "\n",
    "\n",
    "def get_assistant_text(messages):\n",
    "    assistants = [message['content'] for message in messages if message['role'] == 'assistant']\n",
    "    text = '\\n-----\\n'.join(assistants)\n",
    "    return text"
   ]
  },
  {
   "cell_type": "code",
   "execution_count": 5,
   "id": "fde5d7f9-dda2-426e-b7b0-abe3851a22f9",
   "metadata": {},
   "outputs": [],
   "source": [
    "file_name0 = 'gpt35_star_wars_scene0.p'\n",
    "file_name1 = 'gpt35_star_wars_scene1.p'\n",
    "file_name2 = 'gpt35_star_wars_scene2.p'\n",
    "file_name3 = 'gpt35_star_wars_scene3.p'\n",
    "file_name4 = 'gpt35_star_wars_scene4.p'\n",
    "file_name5 = 'gpt35_star_wars_scene5.p'\n",
    "file_name6 = 'gpt35_star_wars_scene6.p'\n",
    "file_name7 = 'gpt35_star_wars_scene7.p'\n",
    "file_name8 = 'gpt35_star_wars_scene8.p'\n",
    "file_name9 = 'gpt35_star_wars_scene9.p'\n",
    "\n",
    "ms0 = pickle.load(open(file_name0, 'rb'))\n",
    "ms1 = pickle.load(open(file_name1, 'rb'))\n",
    "ms2 = pickle.load(open(file_name2, 'rb'))\n",
    "ms3 = pickle.load(open(file_name3, 'rb'))\n",
    "ms4 = pickle.load(open(file_name4, 'rb'))\n",
    "ms5 = pickle.load(open(file_name5, 'rb'))\n",
    "ms6 = pickle.load(open(file_name6, 'rb'))\n",
    "ms7 = pickle.load(open(file_name7, 'rb'))\n",
    "ms8 = pickle.load(open(file_name8, 'rb'))\n",
    "ms9 = pickle.load(open(file_name9, 'rb'))\n",
    "\n",
    "text0 = get_assistant_text(ms0)\n",
    "text1 = get_assistant_text(ms1)\n",
    "text2 = get_assistant_text(ms2)\n",
    "text3 = get_assistant_text(ms3)\n",
    "text4 = get_assistant_text(ms4)\n",
    "text5 = get_assistant_text(ms5)\n",
    "text6 = get_assistant_text(ms6)\n",
    "text7 = get_assistant_text(ms7)\n",
    "text8 = get_assistant_text(ms8)\n",
    "text9 = get_assistant_text(ms9)"
   ]
  },
  {
   "cell_type": "code",
   "execution_count": 6,
   "id": "3fffe705-0851-49d8-bc2c-60b3201091ba",
   "metadata": {},
   "outputs": [],
   "source": [
    "prompt = 'Summarize the scene. The output is a simple paragraph.'"
   ]
  },
  {
   "cell_type": "code",
   "execution_count": 8,
   "id": "64490e8d-24cc-4544-8cfc-52f71c57bca7",
   "metadata": {},
   "outputs": [
    {
     "name": "stdout",
     "output_type": "stream",
     "text": [
      "The scene takes place in the dimly lit living quarters of the Tatooine moisture farm. Owen Lars, Beru Lars, and Watto are present. Owen accuses Watto of overcharging, sparking a heated argument. Beru tries to intervene but fails, and the tension escalates. Kitster Chanchani Banai watches nervously. Eventually, Watto storms out, leaving the Lars family frustrated and uncertain about their future. The family gathers around a table and, fueled by determination, discusses a plan to leave Tatooine for a better life elsewhere. The scene ends with a renewed sense of hope and a resolve to take a risky path toward a brighter future.\n"
     ]
    }
   ],
   "source": [
    "r0 = get_responses([m('s', prompt)] + [m('u', text0)])[0]\n",
    "print(r0)"
   ]
  },
  {
   "cell_type": "code",
   "execution_count": 11,
   "id": "d60d152d-5377-4181-a868-cc50b850064b",
   "metadata": {},
   "outputs": [
    {
     "name": "stdout",
     "output_type": "stream",
     "text": [
      "The scene takes place inside the detention center of a Star Destroyer. T3-S8, B1-D3, and R2-Q7, three droids seeking escape, search for a way out. Their metallic bodies glimmer under the dim lights as they work together to overcome the security system. T3-S8 hacks into the system, B1-D3 scours for tools, and R2-Q7 keeps watch. Time is running out as they strive to break free, knowing the consequences of failure. They make progress, using a plasma cutter to melt the door and create an escape route. As they venture through the corridors towards freedom, they encounter a sudden confrontation with stormtroopers. The droids exchange worried glances, trapped and outnumbered. The tension rises as their fate hangs in the balance, and they must quickly devise a plan to negotiate or outwit their adversaries.\n"
     ]
    }
   ],
   "source": [
    "r1 = get_responses([m('s', prompt)] + [m('u', text1)])[0]\n",
    "print(r1)"
   ]
  },
  {
   "cell_type": "code",
   "execution_count": 18,
   "id": "ee7c7e30-2538-42a3-a75c-53cadb4c72f3",
   "metadata": {},
   "outputs": [
    {
     "name": "stdout",
     "output_type": "stream",
     "text": [
      "In the Emperor's Throne Room aboard the Death Star, Obi-Wan Kenobi, Darth Maul, and Mace Windu engage in a fierce lightsaber battle. The room is illuminated by the vibrant colors of their lightsabers as they move with incredible agility, clashing their sabers with intense force. However, despite their skilled fighting techniques, Obi-Wan and Mace are eventually overwhelmed by Maul's savage attacks. As darkness descends upon the galaxy, Emperor Palpatine taunts Obi-Wan, who defiantly refuses to turn to the dark side. Suddenly, a massive explosion rocks the Death Star, throwing everyone off-balance. Chaos and confusion fill the room as smoke billows and sparks fly. The combatants are briefly stunned and disoriented, their battle momentarily halted. They soon realize that Anakin Skywalker is responsible for the explosion, and the Death Star is crumbling from within. In the face of impending tragedy, despair settles upon them all. As they reflect on the sacrifice and the price of freedom, they prepare for the destruction that is imminent.\n"
     ]
    }
   ],
   "source": [
    "r2 = get_responses([m('s', prompt)] + [m('u', text2)])[0]\n",
    "print(r2)"
   ]
  },
  {
   "cell_type": "code",
   "execution_count": 19,
   "id": "e4d2d0e2-a2c1-4fbf-9615-8ba3ef2e7bc6",
   "metadata": {},
   "outputs": [
    {
     "name": "stdout",
     "output_type": "stream",
     "text": [
      "The scene takes place in the Senate chambers on the planet Coruscant. Count Dooku, Admiral Ackbar, and Mon Mothma are engaged in a tense debate. Count Dooku reveals his allegiance to the dark side and attempts to sway Admiral Ackbar and Mon Mothma to join him. The room is filled with tension as the three engage in a verbal battle, with Admiral Ackbar and Mon Mothma standing firm against Dooku's seductive offers. As the debate intensifies, the scene shifts to the large windows overlooking Coruscant, where smoke and chaos engulf the city. The destruction serves as a grim reminder of the war that is unfolding, adding to the atmosphere of fear and uncertainty in the chamber. The characters lament the current state of the galaxy and acknowledge the dire consequences of their choices. The grim reality of their situation hangs heavy in the air, with a somber realization that the road ahead will be difficult and that they must find a way to restore order.\n"
     ]
    }
   ],
   "source": [
    "r3 = get_responses([m('s', prompt)] + [m('u', text3)])[0]\n",
    "print(r3)"
   ]
  },
  {
   "cell_type": "code",
   "execution_count": 22,
   "id": "bca025f2-74b7-4519-9b08-ee7a0ea98a00",
   "metadata": {},
   "outputs": [
    {
     "name": "stdout",
     "output_type": "stream",
     "text": [
      "The scene takes place in an Ewok village tree house. Wicket, Princess Kneesaa, and Tokkat are playing a lively game of holo-chess, teasing and cheering each other on. The air is filled with laughter as they strategize and make their moves. The Ewok village is vibrant and full of activity, with the sounds of drums and the aroma of delicious food filling the air. The Ewoks gather around a long table, eagerly awaiting the arrival of trays of colorful fruits, roasted roots, and desserts. Their excitement grows as the trays are placed on the table, and they begin to feast, sharing stories and enjoying the delectable flavors. The scene resonates with joy, camaraderie, and the pleasures of friendship and good food.\n"
     ]
    }
   ],
   "source": [
    "r4 = get_responses([m('s', prompt)] + [m('u', text4)])[0]\n",
    "print(r4)"
   ]
  },
  {
   "cell_type": "code",
   "execution_count": 24,
   "id": "d977c0b2-0ebf-4171-b7c9-8662f430afb9",
   "metadata": {},
   "outputs": [
    {
     "name": "stdout",
     "output_type": "stream",
     "text": [
      "In the Rebel Base's War Room, Captain Phoenix, Commander Zara, and Major Kaleb discuss battle plans projected on a hologram table. Suddenly, alarms blare and an explosion rocks the base, causing the characters to exchange concerned glances and spring into action. They rush out of the War Room to rally troops and defend their base. In another scene, a bloody and injured man stumbles into view, clutching his side and leaving a trail of blood. Medics quickly rush to his aid, their faces filled with worry and concern. They work urgently to stabilize him and gather information about the ambush he suffered. A palpable tension and sense of urgency hang heavy in the air as the room bustles with activity.\n"
     ]
    }
   ],
   "source": [
    "r5 = get_responses([m('s', prompt)] + [m('u', text5)])[0]\n",
    "print(r5)"
   ]
  },
  {
   "cell_type": "code",
   "execution_count": 25,
   "id": "48d89763-77a6-4eee-8cc4-c0a9bef9a6bd",
   "metadata": {},
   "outputs": [
    {
     "name": "stdout",
     "output_type": "stream",
     "text": [
      "The scene takes place inside the Millennium Falcon's cockpit, where Rey, Finn, and Poe Dameron sit, with R2-D2 by their side. They are preparing for a mission to rescue Chewbacca from the First Order. Rey studies a holographic map, Finn and Poe check their weapons, and R2-D2 locates the First Order's base coordinates. Rey explains their plan to infiltrate the base and extract Chewbacca, relying on Poe's piloting skills and Finn's knowledge of the base layout. As they gather their gear, their determination and hope to bring Chewbacca back home is evident.\n"
     ]
    }
   ],
   "source": [
    "r6 = get_responses([m('s', prompt)] + [m('u', text6)])[0]\n",
    "print(r6)"
   ]
  },
  {
   "cell_type": "code",
   "execution_count": 28,
   "id": "edbbce91-ea79-4b74-b349-89fbe00ce1e2",
   "metadata": {},
   "outputs": [
    {
     "name": "stdout",
     "output_type": "stream",
     "text": [
      "The scene takes place in a dimly lit cantina on Tatooine, where two Jawas and Greedo engage in an intense game of Sabacc. The Jawas, with sly grins, skillfully manipulate the game to their advantage, leaving Greedo visibly frustrated. They reveal their winning hand, leaving Greedo defeated and speechless. As the Jawas collect their credits, a small celebration breaks out among their comrades in the corner of the cantina. The tension between them is palpable as Greedo points accusatory fingers at the Jawas, who remain smug and unfazed. Greedo storms away in anger, while the victorious Jawas revel in their success, laughing and cheering.\n"
     ]
    }
   ],
   "source": [
    "r7 = get_responses([m('s', prompt)] + [m('u', text7)])[0]\n",
    "print(r7)"
   ]
  },
  {
   "cell_type": "code",
   "execution_count": 29,
   "id": "be5024d2-0254-40a3-bcae-5ea4578bc7b2",
   "metadata": {},
   "outputs": [
    {
     "name": "stdout",
     "output_type": "stream",
     "text": [
      "The scene takes place inside Yoda's small hut, where Yoda, Luke Skywalker, and a mysterious stranger are gathered around a table. Yoda arranges ancient artifacts and scrolls while recounting a forgotten Jedi tale. Their expressions and gestures show their deep interest in the discussion of the Force and the challenges faced by Jedi. As the conversation reaches its peak, the room is engulfed in a vortex of shimmering lights, creating an awe-inspiring display of power. The characters are amazed as beams of energy intertwine and the room warps and twists. Time slows down, leaving them humbled and reminded of the limitless potential of the Force. The vortex eventually dissipates, and the characters are left speechless, grateful for the glimpse into the Force's secrets. Yoda declares that they must now embark on a journey to restore balance to the galaxy.\n"
     ]
    }
   ],
   "source": [
    "r8 = get_responses([m('s', prompt)] + [m('u', text8)])[0]\n",
    "print(r8)"
   ]
  },
  {
   "cell_type": "code",
   "execution_count": 30,
   "id": "b877bd8f-d0c4-4b44-a8b7-0dcb7baa406d",
   "metadata": {},
   "outputs": [
    {
     "name": "stdout",
     "output_type": "stream",
     "text": [
      "The scene takes place in the Interdimensional Library, a timeless void filled with endless shelves of ancient tomes that glow with otherworldly knowledge. The Ethereal Specter, the Mysterious Entity, and the Transcendent Being are present. The Ethereal Specter produces a luminescent scroll, while the Mysterious Entity exudes an aura of enigma. The Transcendent Being opens its ethereal wings, casting intricate patterns of light onto the library walls. They embark on a mystical dance, moving through the towering bookcases, tapping into the boundless wisdom of the cosmos. The library remains tranquil, illuminated by ethereal light, as the characters gracefully navigate through the shelves. The air is charged with an otherworldly aura, and the ancient tomes seem to hold their breath, eager for the revelations that lie within their timeworn pages. They continue their exploration, guided by the Force, their purpose resolute and noble.\n"
     ]
    }
   ],
   "source": [
    "r9 = get_responses([m('s', prompt)] + [m('u', text9)])[0]\n",
    "print(r9)"
   ]
  },
  {
   "cell_type": "code",
   "execution_count": 31,
   "id": "b9b35d22-d9e7-4103-bb41-c5985d5cb776",
   "metadata": {},
   "outputs": [],
   "source": [
    "pickle.dump(r0, open('gpt35_star_wars_scene0_summary.p', 'wb'))\n",
    "pickle.dump(r1, open('gpt35_star_wars_scene1_summary.p', 'wb'))\n",
    "pickle.dump(r2, open('gpt35_star_wars_scene2_summary.p', 'wb'))\n",
    "pickle.dump(r3, open('gpt35_star_wars_scene3_summary.p', 'wb'))\n",
    "pickle.dump(r4, open('gpt35_star_wars_scene4_summary.p', 'wb'))\n",
    "pickle.dump(r5, open('gpt35_star_wars_scene5_summary.p', 'wb'))\n",
    "pickle.dump(r6, open('gpt35_star_wars_scene6_summary.p', 'wb'))\n",
    "pickle.dump(r7, open('gpt35_star_wars_scene7_summary.p', 'wb'))\n",
    "pickle.dump(r8, open('gpt35_star_wars_scene8_summary.p', 'wb'))\n",
    "pickle.dump(r9, open('gpt35_star_wars_scene9_summary.p', 'wb'))"
   ]
  },
  {
   "cell_type": "code",
   "execution_count": null,
   "id": "18e303d6-c784-4227-91bb-5917330be880",
   "metadata": {},
   "outputs": [],
   "source": []
  },
  {
   "cell_type": "code",
   "execution_count": null,
   "id": "0ef72262-9e66-460c-8562-b578809e8342",
   "metadata": {},
   "outputs": [],
   "source": []
  },
  {
   "cell_type": "code",
   "execution_count": null,
   "id": "bea6e2a2-4898-4050-9724-84330a5d35cf",
   "metadata": {},
   "outputs": [],
   "source": []
  }
 ],
 "metadata": {
  "kernelspec": {
   "display_name": "Python 3 (ipykernel)",
   "language": "python",
   "name": "python3"
  },
  "language_info": {
   "codemirror_mode": {
    "name": "ipython",
    "version": 3
   },
   "file_extension": ".py",
   "mimetype": "text/x-python",
   "name": "python",
   "nbconvert_exporter": "python",
   "pygments_lexer": "ipython3",
   "version": "3.9.6"
  }
 },
 "nbformat": 4,
 "nbformat_minor": 5
}
