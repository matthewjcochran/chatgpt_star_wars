{
 "cells": [
  {
   "cell_type": "code",
   "execution_count": 32,
   "id": "c9d3c84c-b30c-43c0-85c9-38bcc12b54ce",
   "metadata": {},
   "outputs": [],
   "source": [
    "from openai import OpenAI\n",
    "from urllib.request import urlretrieve\n",
    "from IPython.display import display, HTML\n",
    "import pickle"
   ]
  },
  {
   "cell_type": "code",
   "execution_count": 17,
   "id": "addcaf7a-985c-44f6-a4e9-347ffdf200f8",
   "metadata": {},
   "outputs": [],
   "source": [
    "client = OpenAI()"
   ]
  },
  {
   "cell_type": "code",
   "execution_count": 18,
   "id": "a96bc79e-82cf-456f-aed4-0d15c00d249c",
   "metadata": {},
   "outputs": [],
   "source": [
    "def get_chat_completions(messages, model='gpt-3.5-turbo', **kwargs):\n",
    "    chat_completions = client.chat.completions.create(model=model, messages=messages, **kwargs)\n",
    "    return chat_completions\n",
    "\n",
    "\n",
    "def get_messages_content(chat_completions):\n",
    "    messages_content = [choice.message.content for choice in chat_completions.choices]\n",
    "    return messages_content\n",
    "\n",
    "\n",
    "def get_responses(messages, **kwargs):\n",
    "    chat_completions = get_chat_completions(messages, **kwargs)\n",
    "    messages_content = get_messages_content(chat_completions)\n",
    "    return messages_content\n",
    "\n",
    "\n",
    "def m(role_char, text):\n",
    "    role_dict = {'s': 'system', 'u': 'user', 'a': 'assistant'}\n",
    "    message = {'role': role_dict[role_char], 'content': text.strip()}\n",
    "    return message\n",
    "\n",
    "\n",
    "def get_assistant_text(messages):\n",
    "    assistants = [message['content'] for message in messages if message['role'] == 'assistant']\n",
    "    text = '\\n-----\\n'.join(assistants)\n",
    "    return text"
   ]
  },
  {
   "cell_type": "code",
   "execution_count": 19,
   "id": "fde5d7f9-dda2-426e-b7b0-abe3851a22f9",
   "metadata": {},
   "outputs": [],
   "source": [
    "file_name0 = 'gpt35_star_wars_scene0_summary.p'\n",
    "file_name1 = 'gpt35_star_wars_scene1_summary.p'\n",
    "file_name2 = 'gpt35_star_wars_scene2_summary.p'\n",
    "file_name3 = 'gpt35_star_wars_scene3_summary.p'\n",
    "file_name4 = 'gpt35_star_wars_scene4_summary.p'\n",
    "file_name5 = 'gpt35_star_wars_scene5_summary.p'\n",
    "file_name6 = 'gpt35_star_wars_scene6_summary.p'\n",
    "file_name7 = 'gpt35_star_wars_scene7_summary.p'\n",
    "file_name8 = 'gpt35_star_wars_scene8_summary.p'\n",
    "file_name9 = 'gpt35_star_wars_scene9_summary.p'\n",
    "\n",
    "s0 = pickle.load(open(file_name0, 'rb'))\n",
    "s1 = pickle.load(open(file_name1, 'rb'))\n",
    "s2 = pickle.load(open(file_name2, 'rb'))\n",
    "s3 = pickle.load(open(file_name3, 'rb'))\n",
    "s4 = pickle.load(open(file_name4, 'rb'))\n",
    "s5 = pickle.load(open(file_name5, 'rb'))\n",
    "s6 = pickle.load(open(file_name6, 'rb'))\n",
    "s7 = pickle.load(open(file_name7, 'rb'))\n",
    "s8 = pickle.load(open(file_name8, 'rb'))\n",
    "s9 = pickle.load(open(file_name9, 'rb'))"
   ]
  },
  {
   "cell_type": "code",
   "execution_count": 20,
   "id": "e6734f85-2de9-4395-9a8c-ba43e016a4a4",
   "metadata": {},
   "outputs": [],
   "source": [
    "# prompt = 'A pen and ink storyboard for the following:\\n\\n'\n",
    "prompt = 'Create a pencil sketch the following:\\n\\n'\n",
    "\n",
    "p0 =  prompt + s0\n",
    "p1 =  prompt + s1\n",
    "p2 =  prompt + s2\n",
    "p3 =  prompt + s3\n",
    "p4 =  prompt + s4\n",
    "p5 =  prompt + s5\n",
    "p6 =  prompt + s6\n",
    "p7 =  prompt + s7\n",
    "p8 =  prompt + s8\n",
    "p9 =  prompt + s9"
   ]
  },
  {
   "cell_type": "code",
   "execution_count": 21,
   "id": "8680799d-d92c-4adf-826e-6b0bb149eba1",
   "metadata": {},
   "outputs": [],
   "source": [
    "def generate_image(prompt, model='dall-e-3', size='1024x1024', style='vivid'):\n",
    "    image = client.images.generate(prompt=prompt, model=model, size=size, style=style)\n",
    "    url = image.data[0].url\n",
    "    return url"
   ]
  },
  {
   "cell_type": "code",
   "execution_count": 22,
   "id": "a9cb1431-5bc1-4085-bc18-11476eb9c7d1",
   "metadata": {},
   "outputs": [],
   "source": [
    "# p = p0\n",
    "# text = 'scene0'\n",
    "\n",
    "# url = generate_image(p)\n",
    "# urlretrieve(url, f'{text}_image_0.png');\n",
    "\n",
    "# url = generate_image(p)\n",
    "# urlretrieve(url, f'{text}_image_1.png');\n",
    "\n",
    "# url = generate_image(p)\n",
    "# urlretrieve(url, f'{text}_image_2.png');\n",
    "\n",
    "# url = generate_image(p)\n",
    "# urlretrieve(url, f'{text}_image_3.png');\n",
    "\n",
    "# url = generate_image(p)\n",
    "# urlretrieve(url, f'{text}_image_4.png');\n",
    "\n",
    "# url = generate_image(p)\n",
    "# urlretrieve(url, f'{text}_image_5.png');"
   ]
  },
  {
   "cell_type": "code",
   "execution_count": 36,
   "id": "ad2d25a8-c76c-4289-b207-6cdeeb29da91",
   "metadata": {},
   "outputs": [
    {
     "data": {
      "text/html": [
       "\n",
       "<table>\n",
       "<tr>\n",
       "<td> <img src='scene0_image_0.png'> </td>\n",
       "<td> <img src='scene0_image_1.png'> </td>\n",
       "<td> <img src='scene0_image_2.png'> </td>\n",
       "</tr>\n",
       "<tr>\n",
       "<td> <img src='scene0_image_3.png'> </td>\n",
       "<td> <img src='scene0_image_4.png'> </td>\n",
       "<td> <img src='scene0_image_5.png'> </td>\n",
       "</tr>\n",
       "</table>\n"
      ],
      "text/plain": [
       "<IPython.core.display.HTML object>"
      ]
     },
     "metadata": {},
     "output_type": "display_data"
    }
   ],
   "source": [
    "html = '''\n",
    "<table>\n",
    "<tr>\n",
    "<td> <img src='scene0_image_0.png'> </td>\n",
    "<td> <img src='scene0_image_1.png'> </td>\n",
    "<td> <img src='scene0_image_2.png'> </td>\n",
    "</tr>\n",
    "<tr>\n",
    "<td> <img src='scene0_image_3.png'> </td>\n",
    "<td> <img src='scene0_image_4.png'> </td>\n",
    "<td> <img src='scene0_image_5.png'> </td>\n",
    "</tr>\n",
    "</table>\n",
    "'''\n",
    "display(HTML(html))"
   ]
  },
  {
   "cell_type": "code",
   "execution_count": 23,
   "id": "bd940a13-5173-4993-822b-c50e6c87b5b7",
   "metadata": {},
   "outputs": [],
   "source": [
    "# p = p1\n",
    "# text = 'scene1'\n",
    "\n",
    "# url = generate_image(p)\n",
    "# urlretrieve(url, f'{text}_image_0.png');\n",
    "\n",
    "# url = generate_image(p)\n",
    "# urlretrieve(url, f'{text}_image_1.png');\n",
    "\n",
    "# url = generate_image(p)\n",
    "# urlretrieve(url, f'{text}_image_2.png');\n",
    "\n",
    "# url = generate_image(p)\n",
    "# urlretrieve(url, f'{text}_image_3.png');\n",
    "\n",
    "# url = generate_image(p)\n",
    "# urlretrieve(url, f'{text}_image_4.png');\n",
    "\n",
    "# url = generate_image(p)\n",
    "# urlretrieve(url, f'{text}_image_5.png');"
   ]
  },
  {
   "cell_type": "code",
   "execution_count": 37,
   "id": "d2375aff-22bc-4273-9318-a7e1b831bedf",
   "metadata": {},
   "outputs": [
    {
     "data": {
      "text/html": [
       "\n",
       "<table>\n",
       "<tr>\n",
       "<td> <img src='scene1_image_0.png'> </td>\n",
       "<td> <img src='scene1_image_1.png'> </td>\n",
       "<td> <img src='scene1_image_2.png'> </td>\n",
       "</tr>\n",
       "<tr>\n",
       "<td> <img src='scene1_image_3.png'> </td>\n",
       "<td> <img src='scene1_image_4.png'> </td>\n",
       "<td> <img src='scene1_image_5.png'> </td>\n",
       "</tr>\n",
       "</table>\n"
      ],
      "text/plain": [
       "<IPython.core.display.HTML object>"
      ]
     },
     "metadata": {},
     "output_type": "display_data"
    }
   ],
   "source": [
    "html = '''\n",
    "<table>\n",
    "<tr>\n",
    "<td> <img src='scene1_image_0.png'> </td>\n",
    "<td> <img src='scene1_image_1.png'> </td>\n",
    "<td> <img src='scene1_image_2.png'> </td>\n",
    "</tr>\n",
    "<tr>\n",
    "<td> <img src='scene1_image_3.png'> </td>\n",
    "<td> <img src='scene1_image_4.png'> </td>\n",
    "<td> <img src='scene1_image_5.png'> </td>\n",
    "</tr>\n",
    "</table>\n",
    "'''\n",
    "display(HTML(html))"
   ]
  },
  {
   "cell_type": "code",
   "execution_count": 24,
   "id": "58ecef6a-a6b1-470a-a822-4fd797f52eed",
   "metadata": {},
   "outputs": [],
   "source": [
    "# p = p2\n",
    "# text = 'scene2'\n",
    "\n",
    "# url = generate_image(p)\n",
    "# urlretrieve(url, f'{text}_image_0.png');\n",
    "\n",
    "# url = generate_image(p)\n",
    "# urlretrieve(url, f'{text}_image_1.png');\n",
    "\n",
    "# url = generate_image(p)\n",
    "# urlretrieve(url, f'{text}_image_2.png');\n",
    "\n",
    "# url = generate_image(p)\n",
    "# urlretrieve(url, f'{text}_image_3.png');\n",
    "\n",
    "# url = generate_image(p)\n",
    "# urlretrieve(url, f'{text}_image_4.png');\n",
    "\n",
    "# url = generate_image(p)\n",
    "# urlretrieve(url, f'{text}_image_5.png');"
   ]
  },
  {
   "cell_type": "code",
   "execution_count": 38,
   "id": "9734bc30-c5f6-4f3b-be72-eac7bc7d2efb",
   "metadata": {},
   "outputs": [
    {
     "data": {
      "text/html": [
       "\n",
       "<table>\n",
       "<tr>\n",
       "<td> <img src='scene2_image_0.png'> </td>\n",
       "<td> <img src='scene2_image_1.png'> </td>\n",
       "<td> <img src='scene2_image_2.png'> </td>\n",
       "</tr>\n",
       "<tr>\n",
       "<td> <img src='scene2_image_3.png'> </td>\n",
       "<td> <img src='scene2_image_4.png'> </td>\n",
       "<td> <img src='scene2_image_5.png'> </td>\n",
       "</tr>\n",
       "</table>\n"
      ],
      "text/plain": [
       "<IPython.core.display.HTML object>"
      ]
     },
     "metadata": {},
     "output_type": "display_data"
    }
   ],
   "source": [
    "html = '''\n",
    "<table>\n",
    "<tr>\n",
    "<td> <img src='scene2_image_0.png'> </td>\n",
    "<td> <img src='scene2_image_1.png'> </td>\n",
    "<td> <img src='scene2_image_2.png'> </td>\n",
    "</tr>\n",
    "<tr>\n",
    "<td> <img src='scene2_image_3.png'> </td>\n",
    "<td> <img src='scene2_image_4.png'> </td>\n",
    "<td> <img src='scene2_image_5.png'> </td>\n",
    "</tr>\n",
    "</table>\n",
    "'''\n",
    "display(HTML(html))"
   ]
  },
  {
   "cell_type": "code",
   "execution_count": 25,
   "id": "b334dd04-7200-4282-918d-a3327e457284",
   "metadata": {},
   "outputs": [],
   "source": [
    "# p = p3\n",
    "# text = 'scene3'\n",
    "\n",
    "# url = generate_image(p)\n",
    "# urlretrieve(url, f'{text}_image_0.png');\n",
    "\n",
    "# url = generate_image(p)\n",
    "# urlretrieve(url, f'{text}_image_1.png');\n",
    "\n",
    "# url = generate_image(p)\n",
    "# urlretrieve(url, f'{text}_image_2.png');\n",
    "\n",
    "# url = generate_image(p)\n",
    "# urlretrieve(url, f'{text}_image_3.png');\n",
    "\n",
    "# url = generate_image(p)\n",
    "# urlretrieve(url, f'{text}_image_4.png');\n",
    "\n",
    "# url = generate_image(p)\n",
    "# urlretrieve(url, f'{text}_image_5.png');"
   ]
  },
  {
   "cell_type": "code",
   "execution_count": 46,
   "id": "d7ea6fb1-90dd-4e64-9be5-e81d7f32e3d2",
   "metadata": {},
   "outputs": [
    {
     "data": {
      "text/html": [
       "\n",
       "<table>\n",
       "<tr>\n",
       "<td> <img src='scene3_image_0.png'> </td>\n",
       "<td> <img src='scene3_image_1.png'> </td>\n",
       "<td> <img src='scene3_image_2.png'> </td>\n",
       "</tr>\n",
       "<tr>\n",
       "<td> <img src='scene3_image_3.png'> </td>\n",
       "<td> <img src='scene3_image_4.png'> </td>\n",
       "<td> <img src='scene3_image_5.png'> </td>\n",
       "</tr>\n",
       "</table>\n"
      ],
      "text/plain": [
       "<IPython.core.display.HTML object>"
      ]
     },
     "metadata": {},
     "output_type": "display_data"
    }
   ],
   "source": [
    "html = '''\n",
    "<table>\n",
    "<tr>\n",
    "<td> <img src='scene3_image_0.png'> </td>\n",
    "<td> <img src='scene3_image_1.png'> </td>\n",
    "<td> <img src='scene3_image_2.png'> </td>\n",
    "</tr>\n",
    "<tr>\n",
    "<td> <img src='scene3_image_3.png'> </td>\n",
    "<td> <img src='scene3_image_4.png'> </td>\n",
    "<td> <img src='scene3_image_5.png'> </td>\n",
    "</tr>\n",
    "</table>\n",
    "'''\n",
    "display(HTML(html))"
   ]
  },
  {
   "cell_type": "code",
   "execution_count": 26,
   "id": "f2702f9c-1aae-41e3-8afd-8e637fecab24",
   "metadata": {},
   "outputs": [],
   "source": [
    "# p = p4\n",
    "# text = 'scene4'\n",
    "\n",
    "# url = generate_image(p)\n",
    "# urlretrieve(url, f'{text}_image_0.png');\n",
    "\n",
    "# url = generate_image(p)\n",
    "# urlretrieve(url, f'{text}_image_1.png');\n",
    "\n",
    "# url = generate_image(p)\n",
    "# urlretrieve(url, f'{text}_image_2.png');\n",
    "\n",
    "# url = generate_image(p)\n",
    "# urlretrieve(url, f'{text}_image_3.png');\n",
    "\n",
    "# url = generate_image(p)\n",
    "# urlretrieve(url, f'{text}_image_4.png');\n",
    "\n",
    "# url = generate_image(p)\n",
    "# urlretrieve(url, f'{text}_image_5.png');"
   ]
  },
  {
   "cell_type": "code",
   "execution_count": 40,
   "id": "90c569ed-f8e8-4a93-872a-21affd9ac923",
   "metadata": {},
   "outputs": [
    {
     "data": {
      "text/html": [
       "\n",
       "<table>\n",
       "<tr>\n",
       "<td> <img src='scene4_image_0.png'> </td>\n",
       "<td> <img src='scene4_image_1.png'> </td>\n",
       "<td> <img src='scene4_image_2.png'> </td>\n",
       "</tr>\n",
       "<tr>\n",
       "<td> <img src='scene4_image_3.png'> </td>\n",
       "<td> <img src='scene4_image_4.png'> </td>\n",
       "<td> <img src='scene4_image_5.png'> </td>\n",
       "</tr>\n",
       "</table>\n"
      ],
      "text/plain": [
       "<IPython.core.display.HTML object>"
      ]
     },
     "metadata": {},
     "output_type": "display_data"
    }
   ],
   "source": [
    "html = '''\n",
    "<table>\n",
    "<tr>\n",
    "<td> <img src='scene4_image_0.png'> </td>\n",
    "<td> <img src='scene4_image_1.png'> </td>\n",
    "<td> <img src='scene4_image_2.png'> </td>\n",
    "</tr>\n",
    "<tr>\n",
    "<td> <img src='scene4_image_3.png'> </td>\n",
    "<td> <img src='scene4_image_4.png'> </td>\n",
    "<td> <img src='scene4_image_5.png'> </td>\n",
    "</tr>\n",
    "</table>\n",
    "'''\n",
    "display(HTML(html))"
   ]
  },
  {
   "cell_type": "code",
   "execution_count": 27,
   "id": "e68004bf-101e-434f-8807-4f429976efd4",
   "metadata": {},
   "outputs": [],
   "source": [
    "# p = p5\n",
    "# text = 'scene5'\n",
    "\n",
    "# url = generate_image(p)\n",
    "# urlretrieve(url, f'{text}_image_0.png');\n",
    "\n",
    "# url = generate_image(p)\n",
    "# urlretrieve(url, f'{text}_image_1.png');\n",
    "\n",
    "# url = generate_image(p)\n",
    "# urlretrieve(url, f'{text}_image_2.png');\n",
    "\n",
    "# url = generate_image(p)\n",
    "# urlretrieve(url, f'{text}_image_3.png');\n",
    "\n",
    "# url = generate_image(p)\n",
    "# urlretrieve(url, f'{text}_image_4.png');\n",
    "\n",
    "# url = generate_image(p)\n",
    "# urlretrieve(url, f'{text}_image_5.png');"
   ]
  },
  {
   "cell_type": "code",
   "execution_count": 41,
   "id": "5cf23929-0f1c-4510-889b-b2789fb055bc",
   "metadata": {},
   "outputs": [
    {
     "data": {
      "text/html": [
       "\n",
       "<table>\n",
       "<tr>\n",
       "<td> <img src='scene5_image_0.png'> </td>\n",
       "<td> <img src='scene5_image_1.png'> </td>\n",
       "<td> <img src='scene5_image_2.png'> </td>\n",
       "</tr>\n",
       "<tr>\n",
       "<td> <img src='scene5_image_3.png'> </td>\n",
       "<td> <img src='scene5_image_4.png'> </td>\n",
       "<td> <img src='scene5_image_5.png'> </td>\n",
       "</tr>\n",
       "</table>\n"
      ],
      "text/plain": [
       "<IPython.core.display.HTML object>"
      ]
     },
     "metadata": {},
     "output_type": "display_data"
    }
   ],
   "source": [
    "html = '''\n",
    "<table>\n",
    "<tr>\n",
    "<td> <img src='scene5_image_0.png'> </td>\n",
    "<td> <img src='scene5_image_1.png'> </td>\n",
    "<td> <img src='scene5_image_2.png'> </td>\n",
    "</tr>\n",
    "<tr>\n",
    "<td> <img src='scene5_image_3.png'> </td>\n",
    "<td> <img src='scene5_image_4.png'> </td>\n",
    "<td> <img src='scene5_image_5.png'> </td>\n",
    "</tr>\n",
    "</table>\n",
    "'''\n",
    "display(HTML(html))"
   ]
  },
  {
   "cell_type": "code",
   "execution_count": 28,
   "id": "18e303d6-c784-4227-91bb-5917330be880",
   "metadata": {},
   "outputs": [],
   "source": [
    "# p = p6\n",
    "# text = 'scene6'\n",
    "\n",
    "# url = generate_image(p)\n",
    "# urlretrieve(url, f'{text}_image_0.png');\n",
    "\n",
    "# url = generate_image(p)\n",
    "# urlretrieve(url, f'{text}_image_1.png');\n",
    "\n",
    "# url = generate_image(p)\n",
    "# urlretrieve(url, f'{text}_image_2.png');\n",
    "\n",
    "# url = generate_image(p)\n",
    "# urlretrieve(url, f'{text}_image_3.png');\n",
    "\n",
    "# url = generate_image(p)\n",
    "# urlretrieve(url, f'{text}_image_4.png');\n",
    "\n",
    "# url = generate_image(p)\n",
    "# urlretrieve(url, f'{text}_image_5.png');"
   ]
  },
  {
   "cell_type": "code",
   "execution_count": 42,
   "id": "ae224102-102c-4468-a7ed-ef6f8bbb7175",
   "metadata": {},
   "outputs": [
    {
     "data": {
      "text/html": [
       "\n",
       "<table>\n",
       "<tr>\n",
       "<td> <img src='scene6_image_0.png'> </td>\n",
       "<td> <img src='scene6_image_1.png'> </td>\n",
       "<td> <img src='scene6_image_2.png'> </td>\n",
       "</tr>\n",
       "<tr>\n",
       "<td> <img src='scene6_image_3.png'> </td>\n",
       "<td> <img src='scene6_image_4.png'> </td>\n",
       "<td> <img src='scene6_image_5.png'> </td>\n",
       "</tr>\n",
       "</table>\n"
      ],
      "text/plain": [
       "<IPython.core.display.HTML object>"
      ]
     },
     "metadata": {},
     "output_type": "display_data"
    }
   ],
   "source": [
    "html = '''\n",
    "<table>\n",
    "<tr>\n",
    "<td> <img src='scene6_image_0.png'> </td>\n",
    "<td> <img src='scene6_image_1.png'> </td>\n",
    "<td> <img src='scene6_image_2.png'> </td>\n",
    "</tr>\n",
    "<tr>\n",
    "<td> <img src='scene6_image_3.png'> </td>\n",
    "<td> <img src='scene6_image_4.png'> </td>\n",
    "<td> <img src='scene6_image_5.png'> </td>\n",
    "</tr>\n",
    "</table>\n",
    "'''\n",
    "display(HTML(html))"
   ]
  },
  {
   "cell_type": "code",
   "execution_count": 29,
   "id": "0ef72262-9e66-460c-8562-b578809e8342",
   "metadata": {},
   "outputs": [],
   "source": [
    "# p = p7\n",
    "# text = 'scene7'\n",
    "\n",
    "# url = generate_image(p)\n",
    "# urlretrieve(url, f'{text}_image_0.png');\n",
    "\n",
    "# url = generate_image(p)\n",
    "# urlretrieve(url, f'{text}_image_1.png');\n",
    "\n",
    "# url = generate_image(p)\n",
    "# urlretrieve(url, f'{text}_image_2.png');\n",
    "\n",
    "# url = generate_image(p)\n",
    "# urlretrieve(url, f'{text}_image_3.png');\n",
    "\n",
    "# url = generate_image(p)\n",
    "# urlretrieve(url, f'{text}_image_4.png');\n",
    "\n",
    "# url = generate_image(p)\n",
    "# urlretrieve(url, f'{text}_image_5.png');"
   ]
  },
  {
   "cell_type": "code",
   "execution_count": 43,
   "id": "4cd25241-0edf-4562-8198-cec50dd0de39",
   "metadata": {},
   "outputs": [
    {
     "data": {
      "text/html": [
       "\n",
       "<table>\n",
       "<tr>\n",
       "<td> <img src='scene7_image_0.png'> </td>\n",
       "<td> <img src='scene7_image_1.png'> </td>\n",
       "<td> <img src='scene7_image_2.png'> </td>\n",
       "</tr>\n",
       "<tr>\n",
       "<td> <img src='scene7_image_3.png'> </td>\n",
       "<td> <img src='scene7_image_4.png'> </td>\n",
       "<td> <img src='scene7_image_5.png'> </td>\n",
       "</tr>\n",
       "</table>\n"
      ],
      "text/plain": [
       "<IPython.core.display.HTML object>"
      ]
     },
     "metadata": {},
     "output_type": "display_data"
    }
   ],
   "source": [
    "html = '''\n",
    "<table>\n",
    "<tr>\n",
    "<td> <img src='scene7_image_0.png'> </td>\n",
    "<td> <img src='scene7_image_1.png'> </td>\n",
    "<td> <img src='scene7_image_2.png'> </td>\n",
    "</tr>\n",
    "<tr>\n",
    "<td> <img src='scene7_image_3.png'> </td>\n",
    "<td> <img src='scene7_image_4.png'> </td>\n",
    "<td> <img src='scene7_image_5.png'> </td>\n",
    "</tr>\n",
    "</table>\n",
    "'''\n",
    "display(HTML(html))"
   ]
  },
  {
   "cell_type": "code",
   "execution_count": 30,
   "id": "bea6e2a2-4898-4050-9724-84330a5d35cf",
   "metadata": {},
   "outputs": [],
   "source": [
    "# p = p8\n",
    "# text = 'scene8'\n",
    "\n",
    "# url = generate_image(p)\n",
    "# urlretrieve(url, f'{text}_image_0.png');\n",
    "\n",
    "# url = generate_image(p)\n",
    "# urlretrieve(url, f'{text}_image_1.png');\n",
    "\n",
    "# url = generate_image(p)\n",
    "# urlretrieve(url, f'{text}_image_2.png');\n",
    "\n",
    "# url = generate_image(p)\n",
    "# urlretrieve(url, f'{text}_image_3.png');\n",
    "\n",
    "# url = generate_image(p)\n",
    "# urlretrieve(url, f'{text}_image_4.png');\n",
    "\n",
    "# url = generate_image(p)\n",
    "# urlretrieve(url, f'{text}_image_5.png');"
   ]
  },
  {
   "cell_type": "code",
   "execution_count": 44,
   "id": "e5b2a51f-1e26-4246-b019-fa257f9a7c2c",
   "metadata": {},
   "outputs": [
    {
     "data": {
      "text/html": [
       "\n",
       "<table>\n",
       "<tr>\n",
       "<td> <img src='scene8_image_0.png'> </td>\n",
       "<td> <img src='scene8_image_1.png'> </td>\n",
       "<td> <img src='scene8_image_2.png'> </td>\n",
       "</tr>\n",
       "<tr>\n",
       "<td> <img src='scene8_image_3.png'> </td>\n",
       "<td> <img src='scene8_image_4.png'> </td>\n",
       "<td> <img src='scene8_image_5.png'> </td>\n",
       "</tr>\n",
       "</table>\n"
      ],
      "text/plain": [
       "<IPython.core.display.HTML object>"
      ]
     },
     "metadata": {},
     "output_type": "display_data"
    }
   ],
   "source": [
    "html = '''\n",
    "<table>\n",
    "<tr>\n",
    "<td> <img src='scene8_image_0.png'> </td>\n",
    "<td> <img src='scene8_image_1.png'> </td>\n",
    "<td> <img src='scene8_image_2.png'> </td>\n",
    "</tr>\n",
    "<tr>\n",
    "<td> <img src='scene8_image_3.png'> </td>\n",
    "<td> <img src='scene8_image_4.png'> </td>\n",
    "<td> <img src='scene8_image_5.png'> </td>\n",
    "</tr>\n",
    "</table>\n",
    "'''\n",
    "display(HTML(html))"
   ]
  },
  {
   "cell_type": "code",
   "execution_count": 31,
   "id": "c6a4ed52-23b6-42b6-b6b4-2b20dd27972f",
   "metadata": {},
   "outputs": [],
   "source": [
    "# p = p9\n",
    "# text = 'scene9'\n",
    "\n",
    "# url = generate_image(p)\n",
    "# urlretrieve(url, f'{text}_image_0.png');\n",
    "\n",
    "# url = generate_image(p)\n",
    "# urlretrieve(url, f'{text}_image_1.png');\n",
    "\n",
    "# url = generate_image(p)\n",
    "# urlretrieve(url, f'{text}_image_2.png');\n",
    "\n",
    "# url = generate_image(p)\n",
    "# urlretrieve(url, f'{text}_image_3.png');\n",
    "\n",
    "# url = generate_image(p)\n",
    "# urlretrieve(url, f'{text}_image_4.png');\n",
    "\n",
    "# url = generate_image(p)\n",
    "# urlretrieve(url, f'{text}_image_5.png');"
   ]
  },
  {
   "cell_type": "code",
   "execution_count": 47,
   "id": "d7e92ca2-96ca-4f2e-8774-435e612c4d11",
   "metadata": {},
   "outputs": [
    {
     "data": {
      "text/html": [
       "\n",
       "<table>\n",
       "<tr>\n",
       "<td> <img src='scene9_image_0.png'> </td>\n",
       "<td> <img src='scene9_image_1.png'> </td>\n",
       "<td> <img src='scene9_image_2.png'> </td>\n",
       "</tr>\n",
       "<tr>\n",
       "<td> <img src='scene9_image_3.png'> </td>\n",
       "<td> <img src='scene9_image_4.png'> </td>\n",
       "<td> <img src='scene9_image_5.png'> </td>\n",
       "</tr>\n",
       "</table>\n"
      ],
      "text/plain": [
       "<IPython.core.display.HTML object>"
      ]
     },
     "metadata": {},
     "output_type": "display_data"
    }
   ],
   "source": [
    "html = '''\n",
    "<table>\n",
    "<tr>\n",
    "<td> <img src='scene9_image_0.png'> </td>\n",
    "<td> <img src='scene9_image_1.png'> </td>\n",
    "<td> <img src='scene9_image_2.png'> </td>\n",
    "</tr>\n",
    "<tr>\n",
    "<td> <img src='scene9_image_3.png'> </td>\n",
    "<td> <img src='scene9_image_4.png'> </td>\n",
    "<td> <img src='scene9_image_5.png'> </td>\n",
    "</tr>\n",
    "</table>\n",
    "'''\n",
    "display(HTML(html))"
   ]
  },
  {
   "cell_type": "code",
   "execution_count": null,
   "id": "12cc2b94-ca18-4f4e-9394-0a558e668470",
   "metadata": {},
   "outputs": [],
   "source": []
  },
  {
   "cell_type": "code",
   "execution_count": 51,
   "id": "3103ac24-27af-49c4-aa0e-c949321030a7",
   "metadata": {},
   "outputs": [],
   "source": []
  },
  {
   "cell_type": "code",
   "execution_count": 52,
   "id": "9b12bd47-6578-4e6a-8f70-c3cd6d313dae",
   "metadata": {},
   "outputs": [],
   "source": []
  }
 ],
 "metadata": {
  "kernelspec": {
   "display_name": "Python 3 (ipykernel)",
   "language": "python",
   "name": "python3"
  },
  "language_info": {
   "codemirror_mode": {
    "name": "ipython",
    "version": 3
   },
   "file_extension": ".py",
   "mimetype": "text/x-python",
   "name": "python",
   "nbconvert_exporter": "python",
   "pygments_lexer": "ipython3",
   "version": "3.9.6"
  }
 },
 "nbformat": 4,
 "nbformat_minor": 5
}
